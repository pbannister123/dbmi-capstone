{
 "cells": [
  {
   "cell_type": "markdown",
   "metadata": {},
   "source": [
    "## load JSON FHIR Questionnaires to SMART FHIR Server"
   ]
  },
  {
   "cell_type": "code",
   "execution_count": 1,
   "metadata": {},
   "outputs": [],
   "source": [
    "#import relevant packages\n",
    "from fhirclient import client\n",
    "from fhirclient import server\n",
    "import json\n",
    "import fhirclient.models.questionnaire as q\n",
    "import pandas as pd\n",
    "\n",
    "\n",
    "#set up smart server\n",
    "smart = server.FHIRServer(None, 'https://r4.smarthealthit.org')\n"
   ]
  },
  {
   "cell_type": "code",
   "execution_count": 2,
   "metadata": {},
   "outputs": [
    {
     "name": "stdout",
     "output_type": "stream",
     "text": [
      "Over the last 2 weeks, how often have you been bothered by the following problems: little interest or pleasure in doing things? Would you say...\n"
     ]
    }
   ],
   "source": [
    "#load mh_questionnaire json\n",
    "with open('questionnaires/MHQuestionnaire_withValueSet.json', 'r') as h1:\n",
    "    qjs1 = json.load(h1)\n",
    "mh_questionnaire = q.Questionnaire(qjs1)\n",
    "\n",
    "#test json load\n",
    "print(mh_questionnaire.item[0].text)\n"
   ]
  },
  {
   "cell_type": "code",
   "execution_count": 3,
   "metadata": {},
   "outputs": [
    {
     "name": "stdout",
     "output_type": "stream",
     "text": [
      "Next I am going to ask you about the time {you spend/SP spends} doing different types of physical activity in a typical week. Think first about the time {you spend/he spends/she spends} doing work. Think of work as the things that {you have/he has/she has} to do such as paid or unpaid work, household chores, and yard work. Does {your/SP's} work involve vigorous-intensity activity that causes large increases in breathing or heart rate like carrying or lifting heavy loads, digging or construction work for at least 10 minutes continuously?\n"
     ]
    }
   ],
   "source": [
    "#load pa_questionnaire json\n",
    "with open('questionnaires/PAQuestionnaire_withValueSet.json', 'r') as h2:\n",
    "    qjs2 = json.load(h2)\n",
    "pa_questionnaire = q.Questionnaire(qjs2)\n",
    "\n",
    "#test json load\n",
    "print(pa_questionnaire.item[0].text)\n"
   ]
  },
  {
   "cell_type": "code",
   "execution_count": 4,
   "metadata": {},
   "outputs": [
    {
     "name": "stdout",
     "output_type": "stream",
     "text": [
      "530446\n"
     ]
    }
   ],
   "source": [
    "#take loaded mental health json questionnaire and upload to server\n",
    "mh_quest_load = q.Questionnaire.create(mh_questionnaire, smart)\n",
    "mh_quest_id = mh_quest_load[\"id\"]\n",
    "print(mh_quest_id)\n"
   ]
  },
  {
   "cell_type": "code",
   "execution_count": 5,
   "metadata": {},
   "outputs": [
    {
     "name": "stdout",
     "output_type": "stream",
     "text": [
      "530447\n"
     ]
    }
   ],
   "source": [
    "#take loaded physical activity json questionnaire and upload to server\n",
    "pa_quest_load = q.Questionnaire.create(pa_questionnaire, smart)\n",
    "pa_quest_id = pa_quest_load[\"id\"]\n",
    "print(pa_quest_id)\n"
   ]
  },
  {
   "cell_type": "code",
   "execution_count": 6,
   "metadata": {},
   "outputs": [
    {
     "name": "stdout",
     "output_type": "stream",
     "text": [
      "[Over the last 2 weeks, how often have you been bothered by the following problems:] feeling down, depressed, or hopeless?\n"
     ]
    }
   ],
   "source": [
    "#pull mental health questionnaire from server and read:\n",
    "mh_quest_download = q.Questionnaire.read(mh_quest_id, smart)\n",
    "print(mh_quest_download.item[1].text)\n"
   ]
  },
  {
   "cell_type": "code",
   "execution_count": 7,
   "metadata": {},
   "outputs": [
    {
     "name": "stdout",
     "output_type": "stream",
     "text": [
      "In a typical week, on how many days {do you/does SP} do vigorous-intensity activities as part of {your/his/her} work?\n"
     ]
    }
   ],
   "source": [
    "#pull physical activity questionnaire from server and read:\n",
    "pa_quest_download = q.Questionnaire.read(pa_quest_id, smart)\n",
    "print(pa_quest_download.item[1].text)\n"
   ]
  },
  {
   "cell_type": "code",
   "execution_count": 53,
   "metadata": {},
   "outputs": [
    {
     "name": "stdout",
     "output_type": "stream",
     "text": [
      "      Unnamed: 0    seqn  paq605  paq610  pad615  paq620  paq625  pad630  \\\n",
      "0              1   93705       2     NaN     NaN       2     NaN     NaN   \n",
      "1              2   93706       2     NaN     NaN       2     NaN     NaN   \n",
      "2              3   93708       2     NaN     NaN       2     NaN     NaN   \n",
      "3              4   93709       2     NaN     NaN       1     2.0   180.0   \n",
      "4              5   93711       2     NaN     NaN       2     NaN     NaN   \n",
      "...          ...     ...     ...     ...     ...     ...     ...     ...   \n",
      "5851        5852  102950       2     NaN     NaN       2     NaN     NaN   \n",
      "5852        5853  102952       2     NaN     NaN       2     NaN     NaN   \n",
      "5853        5854  102953       1     3.0   240.0       1     3.0   240.0   \n",
      "5854        5855  102954       2     NaN     NaN       2     NaN     NaN   \n",
      "5855        5856  102956       2     NaN     NaN       2     NaN     NaN   \n",
      "\n",
      "      paq635  paq640  pad645  paq650  paq655  pad660  paq665  paq670  pad675  \\\n",
      "0          2     NaN     NaN       2     NaN     NaN       1     2.0    60.0   \n",
      "1          1     5.0    45.0       2     NaN     NaN       1     2.0    30.0   \n",
      "2          2     NaN     NaN       2     NaN     NaN       1     5.0    30.0   \n",
      "3          2     NaN     NaN       2     NaN     NaN       2     NaN     NaN   \n",
      "4          1     5.0    60.0       1     4.0    60.0       1     2.0    30.0   \n",
      "...      ...     ...     ...     ...     ...     ...     ...     ...     ...   \n",
      "5851       2     NaN     NaN       2     NaN     NaN       2     NaN     NaN   \n",
      "5852       2     NaN     NaN       2     NaN     NaN       1     6.0    60.0   \n",
      "5853       2     NaN     NaN       2     NaN     NaN       2     NaN     NaN   \n",
      "5854       2     NaN     NaN       2     NaN     NaN       1     2.0    30.0   \n",
      "5855       2     NaN     NaN       2     NaN     NaN       2     NaN     NaN   \n",
      "\n",
      "      pad680  \n",
      "0      300.0  \n",
      "1      240.0  \n",
      "2      120.0  \n",
      "3      600.0  \n",
      "4      420.0  \n",
      "...      ...  \n",
      "5851    60.0  \n",
      "5852   120.0  \n",
      "5853   360.0  \n",
      "5854   600.0  \n",
      "5855   720.0  \n",
      "\n",
      "[5856 rows x 18 columns]\n",
      "{'id': 'patient-1', 'name': [{'family': 'Parker', 'given': ['Peter']}], 'resourceType': 'Patient'}\n"
     ]
    },
    {
     "ename": "FHIRValidationError",
     "evalue": "{root}:\n  item.0:\n    answer:\n      Expecting property \"answer\" on <class 'fhirclient.models.questionnaireresponse.QuestionnaireResponseItem'> to be <class 'fhirclient.models.questionnaireresponse.QuestionnaireResponseItemAnswer'>, but is <class 'float'>",
     "output_type": "error",
     "traceback": [
      "\u001b[0;31m---------------------------------------------------------------------------\u001b[0m",
      "\u001b[0;31mFHIRValidationError\u001b[0m                       Traceback (most recent call last)",
      "\u001b[0;32m<ipython-input-53-e84ee61146bc>\u001b[0m in \u001b[0;36m<module>\u001b[0;34m\u001b[0m\n\u001b[1;32m     40\u001b[0m \u001b[0;31m#print output\u001b[0m\u001b[0;34m\u001b[0m\u001b[0;34m\u001b[0m\u001b[0;34m\u001b[0m\u001b[0m\n\u001b[1;32m     41\u001b[0m \u001b[0mprint\u001b[0m\u001b[0;34m(\u001b[0m\u001b[0mpatient\u001b[0m\u001b[0;34m.\u001b[0m\u001b[0mas_json\u001b[0m\u001b[0;34m(\u001b[0m\u001b[0;34m)\u001b[0m\u001b[0;34m)\u001b[0m\u001b[0;34m\u001b[0m\u001b[0;34m\u001b[0m\u001b[0m\n\u001b[0;32m---> 42\u001b[0;31m \u001b[0mprint\u001b[0m\u001b[0;34m(\u001b[0m\u001b[0mpa_qr\u001b[0m\u001b[0;34m.\u001b[0m\u001b[0mas_json\u001b[0m\u001b[0;34m(\u001b[0m\u001b[0;34m)\u001b[0m\u001b[0;34m)\u001b[0m\u001b[0;34m\u001b[0m\u001b[0;34m\u001b[0m\u001b[0m\n\u001b[0m\u001b[1;32m     43\u001b[0m \u001b[0;34m\u001b[0m\u001b[0m\n\u001b[1;32m     44\u001b[0m \u001b[0;34m\u001b[0m\u001b[0m\n",
      "\u001b[0;32m~/opt/anaconda3/lib/python3.8/site-packages/fhirclient/models/fhirabstractresource.py\u001b[0m in \u001b[0;36mas_json\u001b[0;34m(self)\u001b[0m\n\u001b[1;32m     40\u001b[0m \u001b[0;34m\u001b[0m\u001b[0m\n\u001b[1;32m     41\u001b[0m     \u001b[0;32mdef\u001b[0m \u001b[0mas_json\u001b[0m\u001b[0;34m(\u001b[0m\u001b[0mself\u001b[0m\u001b[0;34m)\u001b[0m\u001b[0;34m:\u001b[0m\u001b[0;34m\u001b[0m\u001b[0;34m\u001b[0m\u001b[0m\n\u001b[0;32m---> 42\u001b[0;31m         \u001b[0mjs\u001b[0m \u001b[0;34m=\u001b[0m \u001b[0msuper\u001b[0m\u001b[0;34m(\u001b[0m\u001b[0mFHIRAbstractResource\u001b[0m\u001b[0;34m,\u001b[0m \u001b[0mself\u001b[0m\u001b[0;34m)\u001b[0m\u001b[0;34m.\u001b[0m\u001b[0mas_json\u001b[0m\u001b[0;34m(\u001b[0m\u001b[0;34m)\u001b[0m\u001b[0;34m\u001b[0m\u001b[0;34m\u001b[0m\u001b[0m\n\u001b[0m\u001b[1;32m     43\u001b[0m         \u001b[0mjs\u001b[0m\u001b[0;34m[\u001b[0m\u001b[0;34m'resourceType'\u001b[0m\u001b[0;34m]\u001b[0m \u001b[0;34m=\u001b[0m \u001b[0mself\u001b[0m\u001b[0;34m.\u001b[0m\u001b[0mresource_type\u001b[0m\u001b[0;34m\u001b[0m\u001b[0;34m\u001b[0m\u001b[0m\n\u001b[1;32m     44\u001b[0m         \u001b[0;32mreturn\u001b[0m \u001b[0mjs\u001b[0m\u001b[0;34m\u001b[0m\u001b[0;34m\u001b[0m\u001b[0m\n",
      "\u001b[0;32m~/opt/anaconda3/lib/python3.8/site-packages/fhirclient/models/fhirabstractbase.py\u001b[0m in \u001b[0;36mas_json\u001b[0;34m(self)\u001b[0m\n\u001b[1;32m    295\u001b[0m \u001b[0;34m\u001b[0m\u001b[0m\n\u001b[1;32m    296\u001b[0m         \u001b[0;32mif\u001b[0m \u001b[0mlen\u001b[0m\u001b[0;34m(\u001b[0m\u001b[0merrs\u001b[0m\u001b[0;34m)\u001b[0m \u001b[0;34m>\u001b[0m \u001b[0;36m0\u001b[0m\u001b[0;34m:\u001b[0m\u001b[0;34m\u001b[0m\u001b[0;34m\u001b[0m\u001b[0m\n\u001b[0;32m--> 297\u001b[0;31m             \u001b[0;32mraise\u001b[0m \u001b[0mFHIRValidationError\u001b[0m\u001b[0;34m(\u001b[0m\u001b[0merrs\u001b[0m\u001b[0;34m)\u001b[0m\u001b[0;34m\u001b[0m\u001b[0;34m\u001b[0m\u001b[0m\n\u001b[0m\u001b[1;32m    298\u001b[0m         \u001b[0;32mreturn\u001b[0m \u001b[0mjs\u001b[0m\u001b[0;34m\u001b[0m\u001b[0;34m\u001b[0m\u001b[0m\n\u001b[1;32m    299\u001b[0m \u001b[0;34m\u001b[0m\u001b[0m\n",
      "\u001b[0;31mFHIRValidationError\u001b[0m: {root}:\n  item.0:\n    answer:\n      Expecting property \"answer\" on <class 'fhirclient.models.questionnaireresponse.QuestionnaireResponseItem'> to be <class 'fhirclient.models.questionnaireresponse.QuestionnaireResponseItemAnswer'>, but is <class 'float'>"
     ]
    }
   ],
   "source": [
    "# add questionnaire responses for NHANES patients:\n",
    "\n",
    "import fhirclient.models.patient as p\n",
    "import fhirclient.models.humanname as hn\n",
    "import fhirclient.models.questionnaireresponse as qr\n",
    "\n",
    "#read in csv with response data:\n",
    "pa_data = pd.read_csv('nhanes_data/activity_questionnaire.csv')\n",
    "dpq_data = pd.read_csv('nhanes_data/depression_questionnaire.csv')\n",
    "\n",
    "#print first row as list of questionnaire answers\n",
    "list1 = list(pa_data.loc[0])\n",
    "print(pa_data)\n",
    "\n",
    "#assign variables to questionnaire response resource elements: \n",
    "#contstruct questionnaire response manually with script like below with patient, but with questionnaire instead\n",
    "#- make sure to adopt syle of questionnaire we are responding too\n",
    "#start with the first patient's response\n",
    "pa_qr = qr.QuestionnaireResponse({'id': 'qr-1', 'status': 'generated'})\n",
    "pa_qr.id\n",
    "\n",
    "qr_item = qr.QuestionnaireResponseItem()\n",
    "qr_item.linkId = 'PAQ605'\n",
    "qr_item.answer = list1[2]\n",
    "pa_qr.item = [qr_item]\n",
    "\n",
    "\n",
    "    \n",
    "    \n",
    "#example for creating patient:\n",
    "patient = p.Patient({'id': 'patient-1'})\n",
    "patient.id\n",
    "\n",
    "name = hn.HumanName()\n",
    "name.given = ['Peter']\n",
    "name.family = 'Parker'\n",
    "patient.name = [name]\n",
    "\n",
    "\n",
    "#print output\n",
    "print(patient.as_json())\n",
    "print(pa_qr.as_json())\n",
    "\n",
    "\n"
   ]
  },
  {
   "cell_type": "code",
   "execution_count": null,
   "metadata": {},
   "outputs": [],
   "source": []
  },
  {
   "cell_type": "code",
   "execution_count": null,
   "metadata": {},
   "outputs": [],
   "source": [
    "\n"
   ]
  },
  {
   "cell_type": "code",
   "execution_count": null,
   "metadata": {},
   "outputs": [],
   "source": []
  }
 ],
 "metadata": {
  "kernelspec": {
   "display_name": "Python 3",
   "language": "python",
   "name": "python3"
  },
  "language_info": {
   "codemirror_mode": {
    "name": "ipython",
    "version": 3
   },
   "file_extension": ".py",
   "mimetype": "text/x-python",
   "name": "python",
   "nbconvert_exporter": "python",
   "pygments_lexer": "ipython3",
   "version": "3.8.3"
  }
 },
 "nbformat": 4,
 "nbformat_minor": 2
}
