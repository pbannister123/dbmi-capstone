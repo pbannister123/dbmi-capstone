{
 "cells": [
  {
   "cell_type": "markdown",
   "metadata": {},
   "source": [
    "## load JSON FHIR Questionnaires to SMART FHIR Server"
   ]
  },
  {
   "cell_type": "code",
   "execution_count": 80,
   "metadata": {},
   "outputs": [],
   "source": [
    "#import relevant packages\n",
    "from fhirclient import client\n",
    "from fhirclient import server\n",
    "import json\n",
    "import fhirclient.models.questionnaire as q\n",
    "import pandas as pd\n",
    "\n",
    "#set up smart server\n",
    "smart = server.FHIRServer(None, 'https://r4.smarthealthit.org')"
   ]
  },
  {
   "cell_type": "code",
   "execution_count": 81,
   "metadata": {},
   "outputs": [
    {
     "name": "stdout",
     "output_type": "stream",
     "text": [
      "Over the last 2 weeks, how often have you been bothered by the following problems: little interest or pleasure in doing things? Would you say...\n"
     ]
    }
   ],
   "source": [
    "#load mh_questionnaire json\n",
    "with open('questionnaires/MHQuestionnaire_withValueSet.json', 'r') as h1:\n",
    "    qjs1 = json.load(h1)\n",
    "mh_questionnaire = q.Questionnaire(qjs1)\n",
    "\n",
    "#test json load\n",
    "print(mh_questionnaire.item[0].text)"
   ]
  },
  {
   "cell_type": "code",
   "execution_count": 82,
   "metadata": {},
   "outputs": [
    {
     "name": "stdout",
     "output_type": "stream",
     "text": [
      "Next I am going to ask you about the time {you spend/SP spends} doing different types of physical activity in a typical week. Think first about the time {you spend/he spends/she spends} doing work. Think of work as the things that {you have/he has/she has} to do such as paid or unpaid work, household chores, and yard work. Does {your/SP's} work involve vigorous-intensity activity that causes large increases in breathing or heart rate like carrying or lifting heavy loads, digging or construction work for at least 10 minutes continuously?\n"
     ]
    }
   ],
   "source": [
    "#load pa_questionnaire json\n",
    "with open('questionnaires/PAQuestionnaire_withValueSet.json', 'r') as h2:\n",
    "    qjs2 = json.load(h2)\n",
    "pa_questionnaire = q.Questionnaire(qjs2)\n",
    "\n",
    "#test json load\n",
    "print(pa_questionnaire.item[0].text)"
   ]
  },
  {
   "cell_type": "code",
   "execution_count": 83,
   "metadata": {},
   "outputs": [
    {
     "name": "stdout",
     "output_type": "stream",
     "text": [
      "531473\n"
     ]
    }
   ],
   "source": [
    "#take loaded mental health json questionnaire and upload to server\n",
    "mh_quest_load = q.Questionnaire.create(mh_questionnaire, smart)\n",
    "mh_quest_id = mh_quest_load[\"id\"]\n",
    "print(mh_quest_id)"
   ]
  },
  {
   "cell_type": "code",
   "execution_count": 84,
   "metadata": {},
   "outputs": [
    {
     "name": "stdout",
     "output_type": "stream",
     "text": [
      "531474\n"
     ]
    }
   ],
   "source": [
    "#take loaded physical activity json questionnaire and upload to server\n",
    "pa_quest_load = q.Questionnaire.create(pa_questionnaire, smart)\n",
    "pa_quest_id = pa_quest_load[\"id\"]\n",
    "print(pa_quest_id)"
   ]
  },
  {
   "cell_type": "code",
   "execution_count": 85,
   "metadata": {},
   "outputs": [
    {
     "name": "stdout",
     "output_type": "stream",
     "text": [
      "[Over the last 2 weeks, how often have you been bothered by the following problems:] feeling down, depressed, or hopeless?\n"
     ]
    }
   ],
   "source": [
    "#pull mental health questionnaire from server and read:\n",
    "mh_quest_download = q.Questionnaire.read(mh_quest_id, smart)\n",
    "print(mh_quest_download.item[1].text)"
   ]
  },
  {
   "cell_type": "code",
   "execution_count": 86,
   "metadata": {},
   "outputs": [
    {
     "name": "stdout",
     "output_type": "stream",
     "text": [
      "In a typical week, on how many days {do you/does SP} do vigorous-intensity activities as part of {your/his/her} work?\n"
     ]
    }
   ],
   "source": [
    "#pull physical activity questionnaire from server and read:\n",
    "pa_quest_download = q.Questionnaire.read(pa_quest_id, smart)\n",
    "print(pa_quest_download.item[1].text)"
   ]
  },
  {
   "cell_type": "code",
   "execution_count": 87,
   "metadata": {},
   "outputs": [],
   "source": [
    "# add questionnaire responses for NHANES patients:\n",
    "#get packages\n",
    "import fhirclient.models.patient as p\n",
    "import fhirclient.models.humanname as hn\n",
    "import fhirclient.models.questionnaireresponse as qr\n",
    "\n",
    "#read in csv with questionnaire response data:\n",
    "pa_data = pd.read_csv('nhanes_data/activity_questionnaire.csv')\n",
    "dpq_data = pd.read_csv('nhanes_data/depression_questionnaire.csv')\n"
   ]
  },
  {
   "cell_type": "code",
   "execution_count": 88,
   "metadata": {},
   "outputs": [
    {
     "name": "stdout",
     "output_type": "stream",
     "text": [
      "{'id': 'qr-1', 'item': [{'answer': [{'valueInteger': 2.0}], 'linkId': 'PAQ605'}, {'answer': [{'valueInteger': nan}], 'linkId': 'PAQ610'}, {'answer': [{'valueInteger': nan}], 'linkId': 'PAQ615'}, {'answer': [{'valueInteger': 2.0}], 'linkId': 'PAQ620'}, {'answer': [{'valueInteger': nan}], 'linkId': 'PAQ625'}, {'answer': [{'valueInteger': nan}], 'linkId': 'PAQ630'}, {'answer': [{'valueInteger': 2.0}], 'linkId': 'PAQ635'}, {'answer': [{'valueInteger': nan}], 'linkId': 'PAQ640'}, {'answer': [{'valueInteger': nan}], 'linkId': 'PAQ645'}, {'answer': [{'valueInteger': 2.0}], 'linkId': 'PAQ650'}, {'answer': [{'valueInteger': nan}], 'linkId': 'PAQ655'}, {'answer': [{'valueInteger': nan}], 'linkId': 'PAQ660'}, {'answer': [{'valueInteger': 1.0}], 'linkId': 'PAQ665'}, {'answer': [{'valueInteger': 2.0}], 'linkId': 'PAQ670'}, {'answer': [{'valueInteger': 60.0}], 'linkId': 'PAQ675'}, {'answer': [{'valueInteger': 300.0}], 'linkId': 'PAQ680'}], 'status': 'generated', 'resourceType': 'QuestionnaireResponse'}\n"
     ]
    }
   ],
   "source": [
    "#LOAD PHYSICAL ACTIVITY DATA INTO PY CLIENT MODEL:\n",
    "\n",
    "# first row as list of questionnaire answers\n",
    "list1 = list(pa_data.loc[0])\n",
    "\n",
    "#assign variables to questionnaire response resource elements:\n",
    "#create py client questionnaire response\n",
    "pa_qr = qr.QuestionnaireResponse({'id': 'qr-1', 'status': 'generated'})\n",
    "pa_qr.id\n",
    "\n",
    "#create questionnaire response items for each question, and item answers for each corresponding answer\n",
    "#paq605\n",
    "qr_item605 = qr.QuestionnaireResponseItem()\n",
    "qr_item605_answer = qr.QuestionnaireResponseItemAnswer()\n",
    "qr_item605.linkId = 'PAQ605'\n",
    "qr_item605_answer.valueInteger = list1[2]\n",
    "qr_item605.answer = [qr_item605_answer]\n",
    "#paq610\n",
    "qr_item610 = qr.QuestionnaireResponseItem()\n",
    "qr_item610_answer = qr.QuestionnaireResponseItemAnswer()\n",
    "qr_item610.linkId = 'PAQ610'\n",
    "qr_item610_answer.valueInteger = list1[3]\n",
    "qr_item610.answer = [qr_item610_answer]\n",
    "#paq615\n",
    "qr_item615 = qr.QuestionnaireResponseItem()\n",
    "qr_item615_answer = qr.QuestionnaireResponseItemAnswer()\n",
    "qr_item615.linkId = 'PAQ615'\n",
    "qr_item615_answer.valueInteger = list1[4]\n",
    "qr_item615.answer = [qr_item615_answer]\n",
    "#paq620\n",
    "qr_item620 = qr.QuestionnaireResponseItem()\n",
    "qr_item620_answer = qr.QuestionnaireResponseItemAnswer()\n",
    "qr_item620.linkId = 'PAQ620'\n",
    "qr_item620_answer.valueInteger = list1[5]\n",
    "qr_item620.answer = [qr_item620_answer]\n",
    "#paq625\n",
    "qr_item625 = qr.QuestionnaireResponseItem()\n",
    "qr_item625_answer = qr.QuestionnaireResponseItemAnswer()\n",
    "qr_item625.linkId = 'PAQ625'\n",
    "qr_item625_answer.valueInteger = list1[6]\n",
    "qr_item625.answer = [qr_item625_answer]\n",
    "#paq630\n",
    "qr_item630 = qr.QuestionnaireResponseItem()\n",
    "qr_item630_answer = qr.QuestionnaireResponseItemAnswer()\n",
    "qr_item630.linkId = 'PAQ630'\n",
    "qr_item630_answer.valueInteger = list1[7]\n",
    "qr_item630.answer = [qr_item630_answer]\n",
    "#paq635\n",
    "qr_item635 = qr.QuestionnaireResponseItem()\n",
    "qr_item635_answer = qr.QuestionnaireResponseItemAnswer()\n",
    "qr_item635.linkId = 'PAQ635'\n",
    "qr_item635_answer.valueInteger = list1[8]\n",
    "qr_item635.answer = [qr_item635_answer]\n",
    "#paq640\n",
    "qr_item640 = qr.QuestionnaireResponseItem()\n",
    "qr_item640_answer = qr.QuestionnaireResponseItemAnswer()\n",
    "qr_item640.linkId = 'PAQ640'\n",
    "qr_item640_answer.valueInteger = list1[9]\n",
    "qr_item640.answer = [qr_item640_answer]\n",
    "#paq645\n",
    "qr_item645 = qr.QuestionnaireResponseItem()\n",
    "qr_item645_answer = qr.QuestionnaireResponseItemAnswer()\n",
    "qr_item645.linkId = 'PAQ645'\n",
    "qr_item645_answer.valueInteger = list1[10]\n",
    "qr_item645.answer = [qr_item645_answer]\n",
    "#paq650\n",
    "qr_item650 = qr.QuestionnaireResponseItem()\n",
    "qr_item650_answer = qr.QuestionnaireResponseItemAnswer()\n",
    "qr_item650.linkId = 'PAQ650'\n",
    "qr_item650_answer.valueInteger = list1[11]\n",
    "qr_item650.answer = [qr_item650_answer]\n",
    "#paq655\n",
    "qr_item655 = qr.QuestionnaireResponseItem()\n",
    "qr_item655_answer = qr.QuestionnaireResponseItemAnswer()\n",
    "qr_item655.linkId = 'PAQ655'\n",
    "qr_item655_answer.valueInteger = list1[12]\n",
    "qr_item655.answer = [qr_item655_answer]\n",
    "#paq660\n",
    "qr_item660 = qr.QuestionnaireResponseItem()\n",
    "qr_item660_answer = qr.QuestionnaireResponseItemAnswer()\n",
    "qr_item660.linkId = 'PAQ660'\n",
    "qr_item660_answer.valueInteger = list1[13]\n",
    "qr_item660.answer = [qr_item660_answer]\n",
    "#paq665\n",
    "qr_item665 = qr.QuestionnaireResponseItem()\n",
    "qr_item665_answer = qr.QuestionnaireResponseItemAnswer()\n",
    "qr_item665.linkId = 'PAQ665'\n",
    "qr_item665_answer.valueInteger = list1[14]\n",
    "qr_item665.answer = [qr_item665_answer]\n",
    "#paq670\n",
    "qr_item670 = qr.QuestionnaireResponseItem()\n",
    "qr_item670_answer = qr.QuestionnaireResponseItemAnswer()\n",
    "qr_item670.linkId = 'PAQ670'\n",
    "qr_item670_answer.valueInteger = list1[15]\n",
    "qr_item670.answer = [qr_item670_answer]\n",
    "#paq675\n",
    "qr_item675 = qr.QuestionnaireResponseItem()\n",
    "qr_item675_answer = qr.QuestionnaireResponseItemAnswer()\n",
    "qr_item675.linkId = 'PAQ675'\n",
    "qr_item675_answer.valueInteger = list1[16]\n",
    "qr_item675.answer = [qr_item675_answer]\n",
    "#paq680\n",
    "qr_item680 = qr.QuestionnaireResponseItem()\n",
    "qr_item680_answer = qr.QuestionnaireResponseItemAnswer()\n",
    "qr_item680.linkId = 'PAQ680'\n",
    "qr_item680_answer.valueInteger = list1[17]\n",
    "qr_item680.answer = [qr_item680_answer]\n",
    "\n",
    "#load question items and item answers into questionnaire response\n",
    "pa_qr.item = [qr_item605,\n",
    "              qr_item610,\n",
    "              qr_item615,\n",
    "              qr_item620, \n",
    "              qr_item625, \n",
    "              qr_item630, \n",
    "              qr_item635, \n",
    "              qr_item640, \n",
    "              qr_item645, \n",
    "              qr_item650, \n",
    "              qr_item655, \n",
    "              qr_item660, \n",
    "              qr_item665, \n",
    "              qr_item670, \n",
    "              qr_item675, \n",
    "              qr_item680]\n",
    "\n",
    "#print as json:\n",
    "print(pa_qr.as_json())"
   ]
  },
  {
   "cell_type": "code",
   "execution_count": null,
   "metadata": {},
   "outputs": [],
   "source": [
    "#LOAD MENTAL HEALTH DATA INTO PY CLIENT MODEL:\n"
   ]
  },
  {
   "cell_type": "code",
   "execution_count": null,
   "metadata": {},
   "outputs": [],
   "source": [
    "\n",
    "\n"
   ]
  },
  {
   "cell_type": "code",
   "execution_count": null,
   "metadata": {},
   "outputs": [],
   "source": []
  }
 ],
 "metadata": {
  "kernelspec": {
   "display_name": "Python 3",
   "language": "python",
   "name": "python3"
  },
  "language_info": {
   "codemirror_mode": {
    "name": "ipython",
    "version": 3
   },
   "file_extension": ".py",
   "mimetype": "text/x-python",
   "name": "python",
   "nbconvert_exporter": "python",
   "pygments_lexer": "ipython3",
   "version": "3.8.3"
  }
 },
 "nbformat": 4,
 "nbformat_minor": 2
}
