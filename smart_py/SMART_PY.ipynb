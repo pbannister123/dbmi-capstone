{
 "cells": [
  {
   "cell_type": "markdown",
   "metadata": {},
   "source": [
    "## load JSON FHIR Questionnaires to SMART FHIR Server"
   ]
  },
  {
   "cell_type": "code",
   "execution_count": 170,
   "metadata": {},
   "outputs": [],
   "source": [
    "#import relevant packages\n",
    "from fhirclient import client\n",
    "from fhirclient import server\n",
    "import json\n",
    "import pandas as pd\n",
    "import numpy as np\n",
    "\n",
    "import fhirclient.models.questionnaire as q\n",
    "import fhirclient.models.patient as p\n",
    "import fhirclient.models.humanname as hn\n",
    "import fhirclient.models.questionnaireresponse as qr\n",
    "\n",
    "#set up smart server\n",
    "smart = server.FHIRServer(None, 'https://r4.smarthealthit.org')"
   ]
  },
  {
   "cell_type": "code",
   "execution_count": 171,
   "metadata": {},
   "outputs": [],
   "source": [
    "#set up useful functions:\n",
    "\n",
    "# pretty print\n",
    "def pp(json_object):\n",
    "    print(json.dumps(json_object, indent = 3))\n",
    "    \n",
    "def savetofile(json_object, filename):\n",
    "    with open(filename, 'w') as outfile:\n",
    "        json.dump(json_object, outfile)"
   ]
  },
  {
   "cell_type": "code",
   "execution_count": 172,
   "metadata": {},
   "outputs": [],
   "source": [
    "#load mh_questionnaire json\n",
    "with open('questionnaires/MHQuestionnaire_withValueSet.json', 'r') as h1:\n",
    "    qjs1 = json.load(h1)\n",
    "mh_questionnaire = q.Questionnaire(qjs1)"
   ]
  },
  {
   "cell_type": "code",
   "execution_count": 173,
   "metadata": {},
   "outputs": [],
   "source": [
    "#load pa_questionnaire json\n",
    "with open('questionnaires/PAQuestionnaire_withValueSet.json', 'r') as h2:\n",
    "    qjs2 = json.load(h2)\n",
    "pa_questionnaire = q.Questionnaire(qjs2)"
   ]
  },
  {
   "cell_type": "code",
   "execution_count": 174,
   "metadata": {},
   "outputs": [
    {
     "name": "stdout",
     "output_type": "stream",
     "text": [
      "531841\n"
     ]
    }
   ],
   "source": [
    "#take loaded mental health json questionnaire and upload to smart server\n",
    "mh_quest_load = q.Questionnaire.create(mh_questionnaire, smart)\n",
    "mh_quest_id = mh_quest_load[\"id\"]\n",
    "print(mh_quest_id)"
   ]
  },
  {
   "cell_type": "code",
   "execution_count": 175,
   "metadata": {},
   "outputs": [
    {
     "name": "stdout",
     "output_type": "stream",
     "text": [
      "531842\n"
     ]
    }
   ],
   "source": [
    "#take loaded physical activity json questionnaire and upload to smart server\n",
    "pa_quest_load = q.Questionnaire.create(pa_questionnaire, smart)\n",
    "pa_quest_id = pa_quest_load[\"id\"]\n",
    "print(pa_quest_id)"
   ]
  },
  {
   "cell_type": "code",
   "execution_count": 176,
   "metadata": {},
   "outputs": [],
   "source": [
    "#pull mental health questionnaire from server and read to test:\n",
    "mh_quest_download = q.Questionnaire.read(mh_quest_id, smart)"
   ]
  },
  {
   "cell_type": "code",
   "execution_count": 177,
   "metadata": {},
   "outputs": [],
   "source": [
    "#pull physical activity questionnaire from server and read to test:\n",
    "pa_quest_download = q.Questionnaire.read(pa_quest_id, smart)"
   ]
  },
  {
   "cell_type": "code",
   "execution_count": 178,
   "metadata": {},
   "outputs": [],
   "source": [
    "#Add questionnaire responses for NHANES patients:\n",
    "#read in csv with questionnaire response data:\n",
    "pa_data = pd.read_csv('nhanes_data/activity_questionnaire.csv')\n",
    "dpq_data = pd.read_csv('nhanes_data/depression_questionnaire.csv')\n",
    "\n",
    "# r: pandas are generally not too useful to only iteration"
   ]
  },
  {
   "cell_type": "code",
   "execution_count": 179,
   "metadata": {},
   "outputs": [
    {
     "name": "stdout",
     "output_type": "stream",
     "text": [
      "    PA-CSV PA-FHIR Questionnaire\n",
      "0   pad615                PAD615\n",
      "1   pad630                PAD630\n",
      "2   pad645                PAD645\n",
      "3   pad660                PAD660\n",
      "4   pad675                PAD675\n",
      "5   pad680                PAD680\n",
      "6   paq605                PAQ605\n",
      "7   paq610                PAQ610\n",
      "8   paq620                PAQ620\n",
      "9   paq625                PAQ625\n",
      "10  paq635                PAQ635\n",
      "11  paq640                PAQ640\n",
      "12  paq650                PAQ650\n",
      "13  paq655                PAQ655\n",
      "14  paq665                PAQ665\n",
      "15  paq670                PAQ670\n",
      "   PA-CSV PA-FHIR Questionnaire\n",
      "0  dpq010                DPQ010\n",
      "1  dpq020                DPQ020\n",
      "2  dpq030                DPQ030\n",
      "3  dpq040                DPQ040\n",
      "4  dpq050                DPQ050\n",
      "5  dpq060                DPQ060\n",
      "6  dpq070                DPQ070\n",
      "7  dpq080                DPQ080\n",
      "8  dpq090                DPQ090\n",
      "9  dpq100                DPQ100\n"
     ]
    }
   ],
   "source": [
    "# Verify: Questionnaire's linkId should match the linkIds in QuestionnaireResponse when created.\n",
    "# Check if csv is the right one. \n",
    "\n",
    "# Physical Activity CSV and Questionnaire linkIds\n",
    "pa_csv_questionids = sorted(list(pa_data.columns.values)[2:])\n",
    "pa_questionnaire_linkids = sorted([item.linkId for item in pa_quest_download.item])\n",
    "compare_df_pa = pd.DataFrame({'PA-CSV': pa_csv_questionids, 'PA-FHIR Questionnaire': pa_questionnaire_linkids})\n",
    "print(compare_df_pa)\n",
    "\n",
    "# Mental Health CSV and Questionnaire linkIds\n",
    "mh_csv_questionids = sorted(list(dpq_data.columns.values)[2:])\n",
    "mh_questionnaire_linkids = sorted([item.linkId for item in mh_quest_download.item])\n",
    "compare_df_mh = pd.DataFrame({'PA-CSV': mh_csv_questionids, 'PA-FHIR Questionnaire': mh_questionnaire_linkids})\n",
    "print(compare_df_mh)\n"
   ]
  },
  {
   "cell_type": "code",
   "execution_count": 222,
   "metadata": {},
   "outputs": [],
   "source": [
    "#LOAD PHYSICAL ACTIVITY DATA INTO PY CLIENT MODEL:\n",
    "\n",
    "pa_questionnaire_responses = []\n",
    "looprange = range(0, len(pa_data))\n",
    "for i in looprange:\n",
    "\n",
    "    #assign variables to questionnaire response resource elements:\n",
    "    #create py client questionnaire response\n",
    "    pa_qr = qr.QuestionnaireResponse({'status': 'completed', \n",
    "                                      'questionnaire': f'Questionnaire/{pa_quest_id}',\n",
    "                                      \"identifier\": {\n",
    "                                        \"system\": \"https://wwwn.cdc.gov/Nchs/Nhanes/2017-2018/PAQ_J.htm\",\n",
    "                                        \"value\": f'{str(int(pa_data.loc[i][1]))}'\n",
    "                                    }})\n",
    "    \n",
    "    response_items = []\n",
    "\n",
    "    #create questionnaire response items for each question, and item answers for each corresponding answer\n",
    "    for question_id in pa_csv_questionids:\n",
    "        qr_item = qr.QuestionnaireResponseItem()\n",
    "        qr_item.linkId = question_id.upper()\n",
    "        #answerItem:\n",
    "        #check if Answer for this item is available, if not Skip, we do not add answerItem\n",
    "        if str(pa_data.loc[i][question_id]) == 'nan':\n",
    "            #skipped!\n",
    "            continue \n",
    "            \n",
    "        qr_item_answer = qr.QuestionnaireResponseItemAnswer()\n",
    "        qr_item_answer.valueInteger = int(int(pa_data.loc[i][question_id]))\n",
    "        \n",
    "        qr_item.answer = [qr_item_answer]\n",
    "        \n",
    "        #add the question text to `qr_item.question`\n",
    "        for i in range(0, len(pa_quest_download.item)):\n",
    "            find_id = pa_quest_download.item[i].linkId\n",
    "            if find_id == question_id:\n",
    "                qr_item.text = pa_quest_download.item[i].text\n",
    "        \n",
    "        #add to response list:\n",
    "        response_items.append(qr_item)\n",
    "    \n",
    "    pa_qr.item = response_items\n",
    "    pa_questionnaire_responses.append(pa_qr)\n",
    "    continue\n",
    "    "
   ]
  },
  {
   "cell_type": "code",
   "execution_count": 161,
   "metadata": {},
   "outputs": [],
   "source": [
    "#LOAD MENTAL HEALTH DATA INTO PY CLIENT MODEL:\n",
    "\n",
    "mh_questionnaire_responses = []\n",
    "looprange = range(0, len(dpq_data))\n",
    "for i in looprange:\n",
    "    \n",
    "    #assign variables to questionnaire response resource elements:\n",
    "    #create py client questionnaire response\n",
    "    mh_qr = qr.QuestionnaireResponse({'status': 'completed', 'questionnaire': f'Questionnaire/{mh_quest_id}', \n",
    "                                      \"identifier\": {\n",
    "                                            \"system\": \"https://wwwn.cdc.gov/Nchs/Nhanes/2017-2018/DPQ_J.htm\",\n",
    "                                            \"value\": f'{str(int(dpq_data.loc[i][1]))}'\n",
    "                                        }})\n",
    "\n",
    "    \n",
    "    response_items = []\n",
    "\n",
    "    #create questionnaire response items for each question, and item answers for each corresponding answer\n",
    "    for question_id in mh_csv_questionids:\n",
    "        qr_item = qr.QuestionnaireResponseItem()\n",
    "        qr_item.linkId = question_id.upper()\n",
    "        #answerItem:\n",
    "        #check if Answer for this item is available, if not Skip, we do not add answerItem\n",
    "        if str(dpq_data.loc[i][question_id]) == 'nan':\n",
    "            #skipped!\n",
    "            continue \n",
    "            \n",
    "        qr_item_answer = qr.QuestionnaireResponseItemAnswer()\n",
    "        qr_item_answer.valueInteger = int(int(dpq_data.loc[i][question_id]))\n",
    "        \n",
    "        qr_item.answer = [qr_item_answer]\n",
    "        \n",
    "        #TODO: Question title\n",
    "        #Grab the question text for this given item from the Questionnaire (get item with the same `linkId`)\n",
    "        #add the text to `qr_item.question` (https://www.hl7.org/fhir/questionnaireresponse-definitions.html#QuestionnaireResponse.item.text)\n",
    "        \n",
    "        #add to response list:\n",
    "        response_items.append(qr_item)\n",
    "        \n",
    "    \n",
    "    \n",
    "    mh_qr.item = response_items\n",
    "    mh_questionnaire_responses.append(mh_qr)\n",
    "    continue\n",
    "    "
   ]
  },
  {
   "cell_type": "code",
   "execution_count": 159,
   "metadata": {},
   "outputs": [
    {
     "name": "stdout",
     "output_type": "stream",
     "text": [
      "531839\n"
     ]
    }
   ],
   "source": [
    "# Upload one physical activity questionnaire response to Server\n",
    "#savetofile(pa_questionnaire_responses[0].as_json(), 'sample_qr.json')\n",
    "pa_response_load = qr.QuestionnaireResponse.create(pa_questionnaire_responses[0], smart)\n",
    "pa_response_id = pa_response_load[\"id\"]\n",
    "print(pa_response_id)\n"
   ]
  },
  {
   "cell_type": "code",
   "execution_count": 162,
   "metadata": {},
   "outputs": [
    {
     "name": "stdout",
     "output_type": "stream",
     "text": [
      "531840\n"
     ]
    }
   ],
   "source": [
    "# Upload one mental health questionnaire response to Server\n",
    "#savetofile(mh_questionnaire_responses[0].as_json(), 'sample_qr.json')\n",
    "mh_response_load = qr.QuestionnaireResponse.create(mh_questionnaire_responses[0], smart)\n",
    "mh_response_id = mh_response_load[\"id\"]\n",
    "print(mh_response_id)\n"
   ]
  },
  {
   "cell_type": "code",
   "execution_count": null,
   "metadata": {},
   "outputs": [],
   "source": []
  },
  {
   "cell_type": "code",
   "execution_count": 223,
   "metadata": {},
   "outputs": [
    {
     "name": "stdout",
     "output_type": "stream",
     "text": [
      "{'identifier': {'system': 'https://wwwn.cdc.gov/Nchs/Nhanes/2017-2018/PAQ_J.htm', 'value': '93706'}, 'item': [{'answer': [{'valueInteger': 45}], 'linkId': 'PAD645'}, {'answer': [{'valueInteger': 60}], 'linkId': 'PAD675'}, {'answer': [{'valueInteger': 60}], 'linkId': 'PAD680'}, {'answer': [{'valueInteger': 2}], 'linkId': 'PAQ605'}, {'answer': [{'valueInteger': 2}], 'linkId': 'PAQ620'}, {'answer': [{'valueInteger': 2}], 'linkId': 'PAQ635'}, {'answer': [{'valueInteger': 2}], 'linkId': 'PAQ650'}, {'answer': [{'valueInteger': 1}], 'linkId': 'PAQ665'}, {'answer': [{'valueInteger': 3}], 'linkId': 'PAQ670'}], 'questionnaire': 'Questionnaire/531842', 'status': 'completed', 'resourceType': 'QuestionnaireResponse'}\n",
      "\n",
      "{'identifier': {'system': 'https://wwwn.cdc.gov/Nchs/Nhanes/2017-2018/DPQ_J.htm', 'value': '93705'}, 'item': [{'answer': [{'valueInteger': 0}], 'linkId': 'DPQ010'}, {'answer': [{'valueInteger': 0}], 'linkId': 'DPQ020'}, {'answer': [{'valueInteger': 0}], 'linkId': 'DPQ030'}, {'answer': [{'valueInteger': 0}], 'linkId': 'DPQ040'}, {'answer': [{'valueInteger': 0}], 'linkId': 'DPQ050'}, {'answer': [{'valueInteger': 0}], 'linkId': 'DPQ060'}, {'answer': [{'valueInteger': 0}], 'linkId': 'DPQ070'}, {'answer': [{'valueInteger': 0}], 'linkId': 'DPQ080'}, {'answer': [{'valueInteger': 0}], 'linkId': 'DPQ090'}], 'questionnaire': 'Questionnaire/531830', 'status': 'completed', 'resourceType': 'QuestionnaireResponse'}\n"
     ]
    }
   ],
   "source": [
    "print(pa_questionnaire_responses[1].as_json())\n",
    "print(\"\")\n",
    "print(mh_questionnaire_responses[0].as_json())"
   ]
  },
  {
   "cell_type": "code",
   "execution_count": null,
   "metadata": {},
   "outputs": [],
   "source": []
  },
  {
   "cell_type": "code",
   "execution_count": 221,
   "metadata": {},
   "outputs": [
    {
     "data": {
      "text/plain": [
       "'In a typical week, on how many days {do you/does SP} do vigorous-intensity activities as part of {your/his/her} work?'"
      ]
     },
     "execution_count": 221,
     "metadata": {},
     "output_type": "execute_result"
    }
   ],
   "source": [
    "pa_quest_download.item[1].text"
   ]
  },
  {
   "cell_type": "code",
   "execution_count": null,
   "metadata": {},
   "outputs": [],
   "source": []
  }
 ],
 "metadata": {
  "kernelspec": {
   "display_name": "Python 3",
   "language": "python",
   "name": "python3"
  },
  "language_info": {
   "codemirror_mode": {
    "name": "ipython",
    "version": 3
   },
   "file_extension": ".py",
   "mimetype": "text/x-python",
   "name": "python",
   "nbconvert_exporter": "python",
   "pygments_lexer": "ipython3",
   "version": "3.8.3"
  }
 },
 "nbformat": 4,
 "nbformat_minor": 2
}
