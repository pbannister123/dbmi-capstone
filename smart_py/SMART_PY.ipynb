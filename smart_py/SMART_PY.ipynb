{
 "cells": [
  {
   "cell_type": "markdown",
   "metadata": {},
   "source": [
    "## load JSON FHIR Questionnaires to SMART FHIR Server"
   ]
  },
  {
   "cell_type": "code",
   "execution_count": 108,
   "metadata": {},
   "outputs": [],
   "source": [
    "#import relevant packages\n",
    "from fhirclient import client\n",
    "from fhirclient import server\n",
    "import json\n",
    "import fhirclient.models.questionnaire as q\n",
    "\n",
    "#set up smart server\n",
    "smart = server.FHIRServer(None, 'https://r4.smarthealthit.org')\n"
   ]
  },
  {
   "cell_type": "code",
   "execution_count": 109,
   "metadata": {},
   "outputs": [
    {
     "name": "stdout",
     "output_type": "stream",
     "text": [
      "Over the last 2 weeks, how often have you been bothered by the following problems: little interest or pleasure in doing things? Would you say...\n"
     ]
    }
   ],
   "source": [
    "#load mh_questionnaire json\n",
    "with open('questionnaires/MHQuestionnaire_withValueSet.json', 'r') as h1:\n",
    "    qjs1 = json.load(h1)\n",
    "mh_questionnaire = q.Questionnaire(qjs1)\n",
    "\n",
    "#test json load\n",
    "print(mh_questionnaire.item[0].text)\n"
   ]
  },
  {
   "cell_type": "code",
   "execution_count": 110,
   "metadata": {},
   "outputs": [
    {
     "name": "stdout",
     "output_type": "stream",
     "text": [
      "Next I am going to ask you about the time {you spend/SP spends} doing different types of physical activity in a typical week. Think first about the time {you spend/he spends/she spends} doing work. Think of work as the things that {you have/he has/she has} to do such as paid or unpaid work, household chores, and yard work. Does {your/SP's} work involve vigorous-intensity activity that causes large increases in breathing or heart rate like carrying or lifting heavy loads, digging or construction work for at least 10 minutes continuously?\n"
     ]
    }
   ],
   "source": [
    "#load pa_questionnaire json\n",
    "with open('questionnaires/PAQuestionnaire_withValueSet.json', 'r') as h2:\n",
    "    qjs2 = json.load(h2)\n",
    "pa_questionnaire = q.Questionnaire(qjs2)\n",
    "\n",
    "#test json load\n",
    "print(pa_questionnaire.item[0].text)\n"
   ]
  },
  {
   "cell_type": "code",
   "execution_count": 111,
   "metadata": {},
   "outputs": [
    {
     "name": "stdout",
     "output_type": "stream",
     "text": [
      "529846\n"
     ]
    }
   ],
   "source": [
    "#take loaded mental health json questionnaire and upload to server\n",
    "mh_quest_load = q.Questionnaire.create(mh_questionnaire, smart)\n",
    "mh_quest_id = mh_quest_load[\"id\"]\n",
    "print(mh_quest_id)\n"
   ]
  },
  {
   "cell_type": "code",
   "execution_count": 112,
   "metadata": {},
   "outputs": [
    {
     "name": "stdout",
     "output_type": "stream",
     "text": [
      "529847\n"
     ]
    }
   ],
   "source": [
    "#take loaded physical activity json questionnaire and upload to server\n",
    "pa_quest_load = q.Questionnaire.create(pa_questionnaire, smart)\n",
    "pa_quest_id = pa_quest_load[\"id\"]\n",
    "print(pa_quest_id)\n"
   ]
  },
  {
   "cell_type": "code",
   "execution_count": 113,
   "metadata": {},
   "outputs": [
    {
     "name": "stdout",
     "output_type": "stream",
     "text": [
      "[Over the last 2 weeks, how often have you been bothered by the following problems:] feeling down, depressed, or hopeless?\n"
     ]
    }
   ],
   "source": [
    "#pull mental health questionnaire from server and read:\n",
    "mh_quest_download = q.Questionnaire.read(mh_quest_id, smart)\n",
    "print(mh_quest_download.item[1].text)\n"
   ]
  },
  {
   "cell_type": "code",
   "execution_count": 114,
   "metadata": {},
   "outputs": [
    {
     "name": "stdout",
     "output_type": "stream",
     "text": [
      "In a typical week, on how many days {do you/does SP} do vigorous-intensity activities as part of {your/his/her} work?\n"
     ]
    }
   ],
   "source": [
    "#pull physical activity questionnaire from server and read:\n",
    "pa_quest_download = q.Questionnaire.read(pa_quest_id, smart)\n",
    "print(pa_quest_download.item[1].text)\n"
   ]
  },
  {
   "cell_type": "code",
   "execution_count": 98,
   "metadata": {},
   "outputs": [
    {
     "data": {
      "text/plain": [
       "{'id': 'patient-1',\n",
       " 'name': [{'family': 'Parker', 'given': ['Peter']}],\n",
       " 'resourceType': 'Patient'}"
      ]
     },
     "execution_count": 98,
     "metadata": {},
     "output_type": "execute_result"
    }
   ],
   "source": [
    "# add questionnaire responses for NHANES patients:\n",
    "\n",
    "import fhirclient.models.patient as p\n",
    "import fhirclient.models.humanname as hn\n",
    "import fhirclient.models.questionnaireresponse as qr\n",
    "\n",
    "#read in csv with response data:\n",
    "#read.csv(x)\n",
    "\n",
    "#parse csv line by line and save information as variables:\n",
    "#for (i in file) {id = x}\n",
    "\n",
    "#assign variables to questionnaire response resource elements:\n",
    " \n",
    "#contstruct questionnaire response manually with script like below with patient, but with questionnaire instead\n",
    "#- make sure to adopt syle of questionnaire we are responding too\n",
    "    # start with one\n",
    "    # \n",
    "\n",
    "    \n",
    "    \n",
    "#example for creating patient:\n",
    "patient = p.Patient({'id': 'patient-1'})\n",
    "patient.id\n",
    "\n",
    "name = hn.HumanName()\n",
    "name.given = ['Peter']\n",
    "name.family = 'Parker'\n",
    "patient.name = [name]\n",
    "patient.as_json()\n",
    "\n"
   ]
  },
  {
   "cell_type": "code",
   "execution_count": null,
   "metadata": {},
   "outputs": [],
   "source": []
  },
  {
   "cell_type": "code",
   "execution_count": null,
   "metadata": {},
   "outputs": [],
   "source": []
  },
  {
   "cell_type": "code",
   "execution_count": null,
   "metadata": {},
   "outputs": [],
   "source": []
  }
 ],
 "metadata": {
  "kernelspec": {
   "display_name": "Python 3",
   "language": "python",
   "name": "python3"
  },
  "language_info": {
   "codemirror_mode": {
    "name": "ipython",
    "version": 3
   },
   "file_extension": ".py",
   "mimetype": "text/x-python",
   "name": "python",
   "nbconvert_exporter": "python",
   "pygments_lexer": "ipython3",
   "version": "3.8.3"
  }
 },
 "nbformat": 4,
 "nbformat_minor": 2
}
