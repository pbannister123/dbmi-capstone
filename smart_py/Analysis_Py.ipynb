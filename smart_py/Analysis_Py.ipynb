{
 "cells": [
  {
   "cell_type": "markdown",
   "metadata": {},
   "source": [
    "# Analysis of NHANES Questionnaire Repsonses\n"
   ]
  },
  {
   "cell_type": "code",
   "execution_count": 1,
   "metadata": {},
   "outputs": [],
   "source": [
    "#import relevant packages\n",
    "import json\n",
    "import pandas as pd\n",
    "import numpy as np\n",
    "import os\n",
    "\n",
    "from fhirclient import client\n",
    "from fhirclient import server\n",
    "import fhirclient.models.questionnaire as q\n",
    "import fhirclient.models.patient as p\n",
    "import fhirclient.models.humanname as hn\n",
    "import fhirclient.models.questionnaireresponse as qr\n"
   ]
  },
  {
   "cell_type": "code",
   "execution_count": 51,
   "metadata": {},
   "outputs": [],
   "source": [
    "#read in JSON Questionnaire response files for physical activity:\n",
    "pa_responses = []\n",
    "for filename1 in os.listdir('pa_questionnaire_responses'):\n",
    "    with open(\"pa_questionnaire_responses/\" + filename1, 'r') as qr_file1:\n",
    "        qrjson1 = json.load(qr_file1)\n",
    "        pa_qr1 = qr.QuestionnaireResponse(qrjson1)\n",
    "        pa_responses.append(pa_qr1)\n",
    "              \n",
    "#read in JSON Questionnaire response files for mental health:\n",
    "mh_responses = []\n",
    "for filename2 in os.listdir('mh_questionnaire_responses'):\n",
    "    with open(\"mh_questionnaire_responses/\" + filename2, 'r') as qr_file2:\n",
    "        qrjson2 = json.load(qr_file2)\n",
    "        pa_qr2 = qr.QuestionnaireResponse(qrjson2)\n",
    "        mh_responses.append(pa_qr2)"
   ]
  },
  {
   "cell_type": "code",
   "execution_count": 80,
   "metadata": {},
   "outputs": [
    {
     "name": "stdout",
     "output_type": "stream",
     "text": [
      "          ID  PAQ605 PAQ610 PAD615  PAQ620 PAQ625 PAD630  PAQ635 PAQ640  \\\n",
      "0      96696       2   null    120       2   null   null       2   null   \n",
      "1     102554       2   null   null       2   null   null       2   null   \n",
      "2      99563       2   null   null       2   null   null       2   null   \n",
      "3      99099       2   null   null       2   null   null       2   null   \n",
      "4      99133       2   null   null       2   null   null       2   null   \n",
      "...      ...     ...    ...    ...     ...    ...    ...     ...    ...   \n",
      "5851   99632       2   null    180       2   null   null       2   null   \n",
      "5852  100638       2   null   null       2   null   null       2   null   \n",
      "5853  102605       2   null   null       2   null   null       2   null   \n",
      "5854   98920       2   null    480       2   null   null       2   null   \n",
      "5855   94000       2   null    480       2   null   null       2   null   \n",
      "\n",
      "     PAD645  PAQ650 PAQ655 PAD660  PAQ665  PAQ670 PAD675 PAD680  \n",
      "0      null       2   null   null       1       3     60     60  \n",
      "1      null       2   null   null       1       3   null     20  \n",
      "2      null       2   null   null       1       3   null    120  \n",
      "3      null       2   null   null       1       3   null   9999  \n",
      "4      null       2   null   null       1       3   null    960  \n",
      "...     ...     ...    ...    ...     ...     ...    ...    ...  \n",
      "5851   null       2   null   null       1       3     60     60  \n",
      "5852   null       2   null   null       1       3     15     60  \n",
      "5853   null       2   null   null       1       3   null    480  \n",
      "5854   null       2   null   null       1       3     60     60  \n",
      "5855   null       2   null   null       1       3     60     60  \n",
      "\n",
      "[5856 rows x 17 columns]\n"
     ]
    }
   ],
   "source": [
    "#pull pysical activity questionnaire response data from SMART model and structure as pandas data frame\n",
    "pa_arrays = []\n",
    "for response in pa_responses:\n",
    "    rowid = response.identifier.value\n",
    "    row = [rowid, 'null', 'null', 'null', 'null', 'null', 'null', 'null', 'null', 'null', 'null', 'null', 'null', 'null', 'null', 'null', 'null']\n",
    "    for answers in response.item:\n",
    "        if answers.linkId == 'PAQ605':\n",
    "            row[1] = answers.answer[0].valueInteger\n",
    "        if answers.linkId == 'PAQ610':\n",
    "            row[2] = answers.answer[0].valueInteger\n",
    "        if answers.linkId == 'PAD615':\n",
    "            row[3] = answers.answer[0].valueInteger\n",
    "        if answers.linkId == 'PAQ620':\n",
    "            row[4] = answers.answer[0].valueInteger\n",
    "        if answers.linkId == 'PAQ625':\n",
    "            row[5] = answers.answer[0].valueInteger\n",
    "        if answers.linkId == 'PAD630':\n",
    "            row[6] = answers.answer[0].valueInteger\n",
    "        if answers.linkId == 'PAQ635':\n",
    "            row[7] = answers.answer[0].valueInteger\n",
    "        if answers.linkId == 'PAQ640':\n",
    "            row[8] = answers.answer[0].valueInteger\n",
    "        if answers.linkId == 'PAD645':\n",
    "            row[9] = answers.answer[0].valueInteger\n",
    "        if answers.linkId == 'PAQ650':\n",
    "            row[10] = answers.answer[0].valueInteger\n",
    "        if answers.linkId == 'PAQ655':\n",
    "            row[11] = answers.answer[0].valueInteger\n",
    "        if answers.linkId == 'PAD660':\n",
    "            row[12] = answers.answer[0].valueInteger\n",
    "        if answers.linkId == 'PAQ665':\n",
    "            row[13] = answers.answer[0].valueInteger\n",
    "        if answers.linkId == 'PAQ670':\n",
    "            row[14] = answers.answer[0].valueInteger\n",
    "        if answers.linkId == 'PAD675':\n",
    "            row[15] = answers.answer[0].valueInteger\n",
    "        if answers.linkId == 'PAD680':\n",
    "            row[16] = answers.answer[0].valueInteger\n",
    "    pa_arrays.append(row)\n",
    "\n",
    "pa_df = pd.DataFrame(pa_arrays, columns =['ID', 'PAQ605', 'PAQ610', 'PAD615', 'PAQ620', 'PAQ625', 'PAD630', 'PAQ635', 'PAQ640', 'PAD645', 'PAQ650', 'PAQ655', 'PAD660', 'PAQ665', 'PAQ670', 'PAD675', 'PAD680']) \n",
    "print(pa_df)"
   ]
  },
  {
   "cell_type": "code",
   "execution_count": 81,
   "metadata": {},
   "outputs": [
    {
     "name": "stdout",
     "output_type": "stream",
     "text": [
      "          ID DPQ010 DPQ020 DPQ030 DPQ040 DPQ050 DPQ060 DPQ070 DPQ080 DPQ090  \\\n",
      "0      96696      1      0      0      1      0      0      0      1      0   \n",
      "1     102554   null   null   null   null   null   null   null   null   null   \n",
      "2      99563      1      0      0      1      0      0      0      1      0   \n",
      "3      99099      1      0      0      1      0      0      0      1      0   \n",
      "4      99133      0      0      0      1      0      0      0      1      0   \n",
      "...      ...    ...    ...    ...    ...    ...    ...    ...    ...    ...   \n",
      "5528   94450      0      0      0      1      0      0      0      1      0   \n",
      "5529   99632      1      0      0      1      0      0      0      1      0   \n",
      "5530  100638      0      0      0      1      0      0      0      1      0   \n",
      "5531  102605      0      0      0      1      0      0      0      1      0   \n",
      "5532   98920      0      0      0      1      0      0      0      1      0   \n",
      "\n",
      "     DPQ100  \n",
      "0         0  \n",
      "1      null  \n",
      "2         0  \n",
      "3         0  \n",
      "4         0  \n",
      "...     ...  \n",
      "5528      0  \n",
      "5529      0  \n",
      "5530      0  \n",
      "5531      0  \n",
      "5532      0  \n",
      "\n",
      "[5533 rows x 11 columns]\n"
     ]
    }
   ],
   "source": [
    "#pull mental health questionnaire response data from SMART model and structure as pandas data frame\n",
    "mh_arrays = []\n",
    "for response in mh_responses:\n",
    "    rowid = response.identifier.value\n",
    "    row = [rowid, 'null', 'null', 'null', 'null', 'null', 'null', 'null', 'null', 'null', 'null']\n",
    "    if response.item != None:\n",
    "        for answers in response.item:\n",
    "            if answers.linkId == 'DPQ010':\n",
    "                row[1] = answers.answer[0].valueInteger\n",
    "            if answers.linkId == 'DPQ020':\n",
    "                row[2] = answers.answer[0].valueInteger\n",
    "            if answers.linkId == 'DPQ030':\n",
    "                row[3] = answers.answer[0].valueInteger\n",
    "            if answers.linkId == 'DPQ040':\n",
    "                row[4] = answers.answer[0].valueInteger\n",
    "            if answers.linkId == 'DPQ050':\n",
    "                row[5] = answers.answer[0].valueInteger\n",
    "            if answers.linkId == 'DPQ060':\n",
    "                row[6] = answers.answer[0].valueInteger\n",
    "            if answers.linkId == 'DPQ070':\n",
    "                row[7] = answers.answer[0].valueInteger\n",
    "            if answers.linkId == 'DPQ080':\n",
    "                row[8] = answers.answer[0].valueInteger\n",
    "            if answers.linkId == 'DPQ090':\n",
    "                row[9] = answers.answer[0].valueInteger\n",
    "            if answers.linkId == 'DPQ100':\n",
    "                row[10] = answers.answer[0].valueInteger\n",
    "    mh_arrays.append(row)\n",
    "\n",
    "mh_df = pd.DataFrame(mh_arrays, columns =['ID', 'DPQ010', 'DPQ020', 'DPQ030', 'DPQ040', 'DPQ050', 'DPQ060', 'DPQ070', 'DPQ080', 'DPQ090', 'DPQ100']) \n",
    "print(mh_df)"
   ]
  },
  {
   "cell_type": "code",
   "execution_count": 5,
   "metadata": {},
   "outputs": [],
   "source": [
    "#create dictionary first - or look up items by link id\n",
    "\n",
    "# each row a patient's questionnaire response, and each column being a response to a question item\n",
    "\n",
    "#first convert to python list\n",
    "\n",
    "#array of list items with just text\n",
    "\n",
    "#initiaized Pandas to create a dataframe out of it\n",
    "\n",
    "#link id will be column header\n",
    "\n",
    "#answer = answer - but we skipped over null entries\n"
   ]
  },
  {
   "cell_type": "code",
   "execution_count": null,
   "metadata": {},
   "outputs": [],
   "source": []
  },
  {
   "cell_type": "code",
   "execution_count": null,
   "metadata": {},
   "outputs": [],
   "source": []
  },
  {
   "cell_type": "code",
   "execution_count": null,
   "metadata": {},
   "outputs": [],
   "source": []
  },
  {
   "cell_type": "code",
   "execution_count": null,
   "metadata": {},
   "outputs": [],
   "source": []
  },
  {
   "cell_type": "code",
   "execution_count": null,
   "metadata": {},
   "outputs": [],
   "source": []
  },
  {
   "cell_type": "code",
   "execution_count": null,
   "metadata": {},
   "outputs": [],
   "source": []
  },
  {
   "cell_type": "code",
   "execution_count": null,
   "metadata": {},
   "outputs": [],
   "source": []
  }
 ],
 "metadata": {
  "kernelspec": {
   "display_name": "Python 3",
   "language": "python",
   "name": "python3"
  },
  "language_info": {
   "codemirror_mode": {
    "name": "ipython",
    "version": 3
   },
   "file_extension": ".py",
   "mimetype": "text/x-python",
   "name": "python",
   "nbconvert_exporter": "python",
   "pygments_lexer": "ipython3",
   "version": "3.8.3"
  }
 },
 "nbformat": 4,
 "nbformat_minor": 4
}
